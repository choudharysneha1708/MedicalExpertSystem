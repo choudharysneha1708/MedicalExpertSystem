{
  "nbformat": 4,
  "nbformat_minor": 0,
  "metadata": {
    "colab": {
      "provenance": [],
      "toc_visible": true
    },
    "kernelspec": {
      "name": "python3",
      "display_name": "Python 3"
    },
    "language_info": {
      "name": "python"
    }
  },
  "cells": [
    {
      "cell_type": "code",
      "execution_count": null,
      "metadata": {
        "colab": {
          "base_uri": "https://localhost:8080/"
        },
        "id": "tC-hLvWlWRvR",
        "outputId": "bd47309b-0841-4894-b77a-a9b2b5d8e5db"
      },
      "outputs": [
        {
          "output_type": "stream",
          "name": "stdout",
          "text": [
            "Enter the name of the disease: Lung Abscess\n",
            "The symptoms for Lung Abscess with sensitivity levels 1, 2, or 3 are:\n",
            "['Shortness of Breath', 'Coughing', 'Fatigue', 'Fever', 'Chest Pain']\n"
          ]
        }
      ],
      "source": [
        "import pandas as pd\n",
        "\n",
        "# Read the dataset\n",
        "data = pd.read_csv('Data.csv')\n",
        "\n",
        "# Create a function\n",
        "def get_symptoms_for_disease(disease_name):\n",
        "    # Check if the disease exists in the dataset\n",
        "    if disease_name in data.iloc[:, 1].values:  # Assuming disease names are in the second column\n",
        "        # Get the row where the disease matches\n",
        "        disease_row = data[data.iloc[:, 1] == disease_name].iloc[:, 2:]  # Assuming disease names are in the second column\n",
        "\n",
        "        # Get the symptoms with sensitivity levels 1, 2, or 3\n",
        "        symptoms = list(disease_row.columns[disease_row.iloc[0] > 0])\n",
        "\n",
        "        return symptoms\n",
        "    else:\n",
        "        return None\n",
        "\n",
        "# Ask user for input and display symptoms\n",
        "user_disease = input(\"Enter the name of the disease: \")\n",
        "\n",
        "symptoms = get_symptoms_for_disease(user_disease)\n",
        "\n",
        "if symptoms is not None:\n",
        "    print(f\"The symptoms for {user_disease} with sensitivity levels 1, 2, or 3 are:\")\n",
        "    print(symptoms)\n",
        "else:\n",
        "    print(f\"The disease {user_disease} is not present in the dataset.\")\n"
      ]
    }
  ]
}