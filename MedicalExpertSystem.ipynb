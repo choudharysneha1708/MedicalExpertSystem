{
  "nbformat": 4,
  "nbformat_minor": 0,
  "metadata": {
    "colab": {
      "provenance": []
    },
    "kernelspec": {
      "name": "python3",
      "display_name": "Python 3"
    },
    "language_info": {
      "name": "python"
    }
  },
  "cells": [
    {
      "cell_type": "markdown",
      "source": [
        "# Importing Library"
      ],
      "metadata": {
        "id": "Fd87THC3koPL"
      }
    },
    {
      "cell_type": "code",
      "source": [
        "import pandas as pd"
      ],
      "metadata": {
        "id": "hYHFSA7xkthy"
      },
      "execution_count": 1,
      "outputs": []
    },
    {
      "cell_type": "markdown",
      "source": [
        "# Loading dataset"
      ],
      "metadata": {
        "id": "Sqww3pZrkwEI"
      }
    },
    {
      "cell_type": "code",
      "source": [
        "data = pd.read_csv('Data.csv')"
      ],
      "metadata": {
        "id": "6Qz5V3w4k2Yt"
      },
      "execution_count": 3,
      "outputs": []
    },
    {
      "cell_type": "markdown",
      "source": [
        "Stored dataset in matrix form and store all the symptoms of covid\n"
      ],
      "metadata": {
        "id": "pDTOUVxlk56o"
      }
    },
    {
      "cell_type": "code",
      "source": [
        "# Create a dictionary to store disease symptoms\n",
        "covid_symptoms = {}\n",
        "data_set = {}\n",
        "data_set_fix={}\n",
        "# Iterate through each row\n",
        "for index, row in data.iterrows():\n",
        "    disease = row.iloc[1]  # The second column contains the disease name\n",
        "    symptoms = []  # Initialize an empty list to store symptoms for this disease\n",
        "\n",
        "    # Iterate through the symptoms columns and check if they are marked as 1, 2, or 3\n",
        "    for col, val in row.iloc[2:].items():\n",
        "        if val in [1, 2, 3]:\n",
        "            symptoms.append(col)\n",
        "        if disease == 'SARS-CoV-2 (COVID-19)' and val in [1, 2, 3]:\n",
        "            if col not in covid_symptoms:\n",
        "                covid_symptoms[col] = val\n",
        "    # Add the disease and its corresponding symptoms to the data_set dictionary\n",
        "    data_set[disease] = symptoms\n",
        "\n",
        "data_set_fix =data_set.copy()\n",
        "print(data_set)"
      ],
      "metadata": {
        "colab": {
          "base_uri": "https://localhost:8080/"
        },
        "id": "d8OqmR1yl8zz",
        "outputId": "a506c76d-4717-4329-ef6d-511c96e247e7"
      },
      "execution_count": 4,
      "outputs": [
        {
          "output_type": "stream",
          "name": "stdout",
          "text": [
            "{'Alcoholic Hepatitis': ['Abdominal Pain', 'Vomiting', 'Nausea', 'Fatigue', 'Loss of Appetite', 'Jaundice'], 'Common Cold': ['Coughing', 'Fever', 'Headache', 'Bodyache', 'Sore Throat', 'Runny Nose', 'Sneezing'], 'Internal Dimorphic Hemmorhoids(piles)': ['Itching', 'Rectal bleeding', 'Pain in rectal area', 'Bruising and bleeding', 'Prolapse', 'Mucus Discharge'], 'External Dimorphic Hemmorhoids(piles)': ['Itching', 'Rectal bleeding', 'Pain in rectal area', 'Bruising and bleeding', 'Prolapse', 'Blood clots', 'Mucus Discharge'], 'Varicose Veins': ['Itching', 'Visible Veins', 'Heaviness of Legs', 'Edema', 'Pain and tenderness to standing'], 'Hypothyroidism': ['Dry Skin', 'Fatigue', 'Weight gain', 'Cold intolerance', 'Hoarse voice', 'Joint Pain', 'Constipation'], 'Hyperthyroidism': ['Difficulty sleeping', 'Fatigue', 'Increased heart rate', 'Weight loss', 'Muscle weakness', 'Heat Intolerance', 'Anxiety'], 'Osteoarthristis': ['Stiffness', 'Muscle weakness', 'Grating sensation', 'Joint Pain', 'Joint Swelling'], 'Arthritis': ['Stiffness', 'tenderness of Joint', 'Fatigue', 'Joint Pain', 'Joint Swelling'], 'Acne': ['Blackheads', 'Whiteheads', 'Pimples'], 'Urinary tract infection': ['Burning in Lower Abdomen', 'Foul-Smelling Urine', 'Frequent Urination', 'Bloody Urine', 'Cloudy Urine', 'Leaking Urine'], 'Psoriasis': ['Dry Skin', 'Skin Inflammation', 'Feet Itching'], 'Hepatitis B': ['Abdominal Pain', 'Vomiting', 'Nausea', 'Fatigue', 'Loss of Appetite', 'Jaundice', 'Dark Urine'], 'Hepatitis A': ['Abdominal Pain', 'Vomiting', 'Nausea', 'Fatigue', 'Fever', 'Loss of Appetite', 'Jaundice', 'Dark Urine', 'Joint Pain'], 'GERD': ['Chronic Cough', 'Chest Pain', 'Sore Throat', 'Difficulty swallowing', 'Hoarse voice', 'HeartBurn', 'Acid Regurgitation'], 'Drug Reaction': ['Abdominal Pain', 'Vomiting', 'Nausea', 'Headache', 'Dizziness', 'Diarrhoea', 'Rash'], 'AIDS': ['Weak immune', 'Fatigue', 'Fever', 'Weight loss', 'Diarrhoea', 'Rash'], 'Peptic ulcer disease': ['Abdominal Pain', 'Nausea', 'Weight loss', 'Loss of Appetite', 'HeartBurn'], 'Diabetes': ['Fatigue', 'Slow wound healing', 'Weight loss', 'Blurred Vision', 'Frequent Urination'], 'Hypertension': ['Shortness of Breath', 'Chest Pain', 'Headache', 'Dizziness'], 'Gastroenteritis': ['Abdominal Pain', 'Vomiting', 'Nausea', 'Fatigue', 'Fever', 'Headache', 'Bodyache', 'Loss of Appetite'], 'Malaria': ['Fatigue', 'Chills', 'Fever', 'Headache', 'Bodyache', 'Chills and Sweating', 'Joint Pain'], 'Chicken pox': ['Itching', 'Fatigue', 'Fever', 'Headache', 'Sore Throat', 'Loss of Appetite', 'Rash'], 'Dengue': ['Abdominal Pain', 'Vomiting', 'Nausea', 'Fatigue', 'High fever', 'Headache', 'Eye Pain', 'Rash', 'Joint Pain'], 'Typhoid': ['Abdominal Pain', 'Fatigue', 'Fever', 'Headache', 'Chills and Sweating', 'Loss of Appetite', 'Diarrhoea', 'Rash', 'Constipation'], 'Pneumonia': ['Shortness of Breath', 'Coughing', 'Fatigue', 'Chills', 'Fever', 'Chest Pain'], 'Acute Respiratory Distress Syndrome (ARDS)': ['Shortness of Breath', 'Coughing', 'Chest Tightness', 'Difficulty sleeping', 'Fatigue', 'Chest Pain', 'Rapid Heartbeat', 'Rapid breathing', 'Cyanosis'], 'Hypoxia': ['Shortness of Breath', 'Rapid Heartbeat', 'Dizziness', 'Rapid breathing', 'Cyanosis'], 'Cytokine Storm': ['Skin Inflammation', 'High fever', 'Headache', 'Dizziness', 'Difficulty in breathing', 'Rash'], 'Thrombosis and Blood Clotting Disorders': ['Shortness of Breath', 'Abdominal Pain', 'Chest Pain', 'Headache', 'Swelling in limbs', 'Skin Redness'], 'Multi-System Inflammatory Syndrome in Children (MIS-C)': ['Vomiting', 'High fever', 'Swelling in limbs', 'Eye Inflammation', 'Eye Redness', 'Rapid Heartbeat', 'Difficulty in breathing', 'Diarrhoea', 'Rash'], 'Long COVID (Post-Acute Sequelae of SARS-CoV-2 infection, PASC)': ['Difficulty in concentrating', 'Shortness of Breath', 'Abdominal Pain', 'Nausea', 'Coughing', 'Fatigue', 'Chest Pain', 'Headache', 'Rapid Heartbeat', 'Irregular heartbeat', 'Diarrhoea', 'Loss of taste', 'Joint Pain'], 'Cardiovascular Complications': ['Shortness of Breath', 'Fatigue', 'Chest Pain', 'Rapid Heartbeat', 'Irregular heartbeat', 'Dizziness', 'Edema', 'Cyanosis'], 'Renal Complications': ['Lower Back Pain', 'Vomiting', 'Nausea', 'Fatigue', 'High Blood Pressure', 'Weakness', 'Edema', 'Foul-Smelling Urine', 'Frequent Urination'], 'Influenza (Flu)': ['Coughing', 'Chest Tightness', 'Fatigue', 'Fever', 'Headache', 'Bodyache', 'Sore Throat', 'Runny Nose', 'Sneezing', 'Chills and Sweating'], 'Tuberculosis (TB)': ['Shortness of Breath', 'Coughing', 'Fatigue', 'Fever', 'Chest Pain', 'Weight loss', 'Coughing up blood'], 'Interstitial Lung Disease (ILD)': ['Shortness of Breath', 'Fatigue', 'Chest Pain', 'Dry Cough'], 'Cystic Fibrosis': ['Shortness of Breath', 'Wheezing', 'Coughing', 'Increased Mucus Production', 'Weight gain'], 'Pulmonary Hypertension': ['Shortness of Breath', 'Fatigue', 'Chest Pain', 'Rapid Heartbeat', 'Edema'], 'Bronchiectasis': ['Shortness of Breath', 'Wheezing', 'Coughing', 'Increased Mucus Production', 'Chronic Cough', 'Fatigue', 'Fever', 'Chest Pain'], 'Pulmonary Fibrosis': ['Shortness of Breath', 'Coughing', 'Fatigue', 'Chest Pain', 'Dry Cough'], 'Pulmonary Embolism': ['Shortness of Breath', 'Coughing', 'Chest Pain', 'Rapid Heartbeat', 'Cyanosis', 'Anxiety'], 'Respiratory Syncytial Virus (RSV) Infection': ['Wheezing', 'Coughing', 'Fatigue', 'Fever', 'Runny Nose', 'Sneezing', 'Rapid breathing'], 'SARS-CoV-2 (COVID-19)': ['Shortness of Breath', 'Vomiting', 'Nausea', 'Coughing', 'Fatigue', 'Fever', 'Headache', 'Bodyache', 'Sore Throat', 'Runny Nose', 'Diarrhoea', 'Loss of taste'], 'Lung Abscess': ['Shortness of Breath', 'Coughing', 'Fatigue', 'Fever', 'Chest Pain'], 'Pulmonary Edema': ['Shortness of Breath', 'Wheezing', 'Coughing', 'Rapid Heartbeat', 'Difficulty in breathing', 'Cyanosis', 'Anxiety'], 'Pleural Effusion': ['Shortness of Breath', 'Coughing', 'Chest Pain', 'Rapid Heartbeat', 'Difficulty in breathing'], 'Respiratory Acidosis': ['Shortness of Breath', 'Fatigue', 'Chest Pain', 'Headache', 'Low Blood Pressue', 'Rapid breathing', 'Cyanosis'], 'Cryptococcosis': ['Shortness of Breath', 'Vomiting', 'Nausea', 'Coughing', 'Fatigue', 'Chills', 'Fever', 'Chest Pain', 'Headache'], 'Pleural Mesothelioma': ['Shortness of Breath', 'Wheezing', 'Coughing', 'Fatigue', 'Chest Pain', 'Weight loss']}\n"
          ]
        }
      ]
    },
    {
      "cell_type": "markdown",
      "source": [
        "Created a mapping of disease with it's all symptoms"
      ],
      "metadata": {
        "id": "6ZuRjkxgmQps"
      }
    },
    {
      "cell_type": "code",
      "source": [
        "disease_symptoms = {}\n",
        "# Iterate through each row\n",
        "for index, row in data.iterrows():\n",
        "    disease = row.iloc[1]  # The second column contains the disease name\n",
        "    symptoms = []  # Initialize an empty list to store symptoms for this disease\n",
        "\n",
        "    # Iterate through the symptoms columns and check if they are marked as 1, 2, or 3\n",
        "    for col, val in row.iloc[2:].items():\n",
        "        if val in [1, 2, 3]:\n",
        "            symptoms.append(col)\n",
        "\n",
        "    disease_symptoms[disease] = symptoms\n",
        "    data_set[disease] = symptoms"
      ],
      "metadata": {
        "id": "Gr7T6MSamXvh"
      },
      "execution_count": 5,
      "outputs": []
    },
    {
      "cell_type": "markdown",
      "source": [
        "Created necessary list and dictonary"
      ],
      "metadata": {
        "id": "xlRrdluAm1o6"
      }
    },
    {
      "cell_type": "code",
      "source": [
        "# Create a dictionary to store denominator values\n",
        "denominator = {}\n",
        "# Create a list to store selected symptoms\n",
        "selected_symptoms = []\n",
        "#created a list to store symotom which is not present in pacent\n",
        "Not_present =[]\n",
        "initial_selection_done = False  # Global variable to track initial selection\n",
        "# Iterate through each row to calculate denominator values\n",
        "for index, row in data.iterrows():\n",
        "    disease = row.iloc[1]  # The second column contains the disease name\n",
        "    total_value = row.iloc[2:].sum()  # Sum of all values from column 3 onwards\n",
        "    denominator[disease] = total_value"
      ],
      "metadata": {
        "id": "UBKePpd1mzWW"
      },
      "execution_count": 6,
      "outputs": []
    },
    {
      "cell_type": "markdown",
      "source": [
        "Initial questions"
      ],
      "metadata": {
        "id": "CQbdMt8JnR3U"
      }
    },
    {
      "cell_type": "code",
      "source": [
        "def initial_symptom_selection(selected_symptoms):\n",
        "    global initial_selection_done\n",
        "    if initial_selection_done:\n",
        "        return True  # Initial selection already done\n",
        "    print(\"Are you suffering from fever?\")\n",
        "    res = input(\"For yes enter 1 else 0:\")\n",
        "    if res == '1':\n",
        "      print(\"1. Fevers less than 103 degrees F\")\n",
        "      print(\"2. fevers greater than 103 degrees F\")\n",
        "      fever = input(\"Enter the numbers of the selected symptom \")\n",
        "      if fever == '1':\n",
        "        selected_symptoms.append(\"Fever\")\n",
        "        Not_present.append(\"High Fever\")\n",
        "      elif fever == '2':\n",
        "        selected_symptoms.append(\"High Fever\")\n",
        "        Not_present.append(\"Fever\")\n",
        "    print(\"Are you suffering from cough?\")\n",
        "    res = input(\"For yes enter 1 else 0:\")\n",
        "    if res == '1':\n",
        "      print(\"Select multiple initial symptoms (separated by commas):\")\n",
        "      print(\"1. Cough\")\n",
        "      print(\"2. Dry Cough\")\n",
        "      print(\"3. Chronic Cough\")\n",
        "      print(\"4. Coughing up blood\")\n",
        "      cough = input(\"Enter the numbers of the selected symptom\")\n",
        "      if cough == '1':\n",
        "        selected_symptoms.append(\"Coughing\")\n",
        "        Not_present.append(\"Dry Cough\")\n",
        "        Not_present.append(\"Chronic Cough\")\n",
        "        Not_present.append(\"Coughing up blood\")\n",
        "      elif cough == '2':\n",
        "        selected_symptoms.append(\"Dry Cough\")\n",
        "        Not_present.append(\"Coughing\")\n",
        "        Not_present.append(\"Chronic Cough\")\n",
        "        Not_present.append(\"Coughing up blood\")\n",
        "      elif cough == '3':\n",
        "        selected_symptoms.append(\"Chronic Cough\")\n",
        "        Not_present.append(\"Dry Cough\")\n",
        "        Not_present.append(\"Coughing\")\n",
        "        Not_present.append(\"Coughing up blood\")\n",
        "      elif cough == '4':\n",
        "        selected_symptoms.append(\"Coughing up blood\")\n",
        "        Not_present.append(\"Dry Cough\")\n",
        "        Not_present.append(\"Chronic Cough\")\n",
        "        Not_present.append(\"Coughing\")\n",
        "    initial_selection_done = True  # Update the global variable\n",
        "    return True  # User selected some symptoms"
      ],
      "metadata": {
        "id": "6VuGwiYempvs"
      },
      "execution_count": 7,
      "outputs": []
    },
    {
      "cell_type": "markdown",
      "source": [
        "Sincerity level of covid"
      ],
      "metadata": {
        "id": "dty_QkvJnZxw"
      }
    },
    {
      "cell_type": "code",
      "source": [
        "def LevelOfCovid(selected_symptoms, covid_symptoms):\n",
        "    count1 = 0\n",
        "    count2 = 0\n",
        "    count3 = 0\n",
        "\n",
        "    for symptom in selected_symptoms:\n",
        "        if symptom in covid_symptoms:\n",
        "            severity = covid_symptoms[symptom]\n",
        "            if severity == 1:\n",
        "                count1 += 1\n",
        "            elif severity == 2:\n",
        "                count2 += 1\n",
        "            elif severity == 3:\n",
        "                count3 += 1\n",
        "\n",
        "    if count3 <= 2 or count2 <= 1:\n",
        "        print(\"You may have mild COVID-19\")\n",
        "        print(\"Medications can help reduce symptoms and help you manage your illness\")\n",
        "        print(\"1. Remdesivir\")\n",
        "        print(\"2. Hydroxychloroquine\")\n",
        "        print(\"3. paracetamol\")\n",
        "        print(\"4. Antihistamines\")\n",
        "        print(\"You may take the following Supplements:\")\n",
        "        print(\"Vitamin C, Zinc ,Melatonin\")\n",
        "    elif count3 in [3, 4] or count2 == 2:\n",
        "        print(\"You may have Moderate COVID-19\")\n",
        "        print(\"You may consult doctor\")\n",
        "    else:\n",
        "        print(\"High chance of COVID-19 consult doctor immediately\")\n",
        "\n"
      ],
      "metadata": {
        "id": "DsTChpD0nlpW"
      },
      "execution_count": 8,
      "outputs": []
    },
    {
      "cell_type": "markdown",
      "source": [
        "Define the giveValue function"
      ],
      "metadata": {
        "id": "D0gDLw37nqoh"
      }
    },
    {
      "cell_type": "code",
      "source": [
        "def giveValue(disease, symptom):\n",
        "    # Find the row corresponding to the disease\n",
        "    row = data[data.iloc[:, 1] == disease]\n",
        "\n",
        "    if not row.empty:\n",
        "        # Check if the symptom is marked for the disease\n",
        "        if row[symptom].values[0] in [1, 2, 3]:\n",
        "            return row[symptom].values[0]\n",
        "    # Return None if the disease or symptom is not found\n",
        "    return None"
      ],
      "metadata": {
        "id": "3yMGtW4bnwcZ"
      },
      "execution_count": 9,
      "outputs": []
    },
    {
      "cell_type": "markdown",
      "source": [
        "add value of symptom s1 and disease d1 in dictonary d1"
      ],
      "metadata": {
        "id": "9Pq4SJMcnzXZ"
      }
    },
    {
      "cell_type": "code",
      "source": [
        "def add_value(disease, symptom, d1):\n",
        "    value = giveValue(disease, symptom)\n",
        "    if value is not None:\n",
        "        if symptom not in d1:\n",
        "            d1[symptom] = value\n",
        "        else:\n",
        "            d1[symptom] += value\n",
        "    else:\n",
        "        print(f\"Value not found for Disease: {disease}, Symptom: {symptom}\")"
      ],
      "metadata": {
        "id": "pxMotCwooS0B"
      },
      "execution_count": 10,
      "outputs": []
    },
    {
      "cell_type": "code",
      "source": [
        "def add_values1(disease, symptom, d1):\n",
        "    value = giveValue(disease, symptom)\n",
        "    if value is not None:\n",
        "        if disease not in d1:\n",
        "            d1[disease] = value\n",
        "        else:\n",
        "            d1[disease] += value\n",
        "    else:\n",
        "        print(f\"Value not found for Disease: {disease}, Symptom: {symptom}\")\n",
        "\n"
      ],
      "metadata": {
        "id": "wMFCKDdZoZdD"
      },
      "execution_count": 11,
      "outputs": []
    },
    {
      "cell_type": "markdown",
      "source": [
        "To show probabilty to user"
      ],
      "metadata": {
        "id": "4F_ECDCaohow"
      }
    },
    {
      "cell_type": "code",
      "source": [
        "def show_probability(selected_symptoms, denominator, data_set):\n",
        "    numerator = {}  # Dictionary to store disease with its value\n",
        "    disease_probability = {}  # Dictionary to store disease name and its probability\n",
        "    print(selected_symptoms)\n",
        "    # Iterate through selected symptoms\n",
        "    for symptom in selected_symptoms:\n",
        "        # Iterate through disease symptoms\n",
        "        for disease, symptoms in data_set_fix.items():\n",
        "            if symptom in symptoms:\n",
        "                add_values1(disease, symptom, numerator)\n",
        "\n",
        "    # Calculate probabilities\n",
        "    for disease in numerator.keys():\n",
        "        disease_probability[disease] = numerator[disease] / denominator[disease]\n",
        "\n",
        "    # Sort disease_probability by probability in descending order\n",
        "    sorted_disease_probability = dict(sorted(disease_probability.items(), key=lambda item: item[1], reverse=True))\n",
        "\n",
        "    high_prob_diseases = {disease: probability for disease, probability in sorted_disease_probability.items() if probability > 0.5}\n",
        "\n",
        "    if high_prob_diseases:\n",
        "        # print(\"\\nDiseases with Probability > 0.5:\")\n",
        "        for disease, probability in high_prob_diseases.items():\n",
        "            print(f\"{disease}: {probability:.2f}\")\n",
        "    else:\n",
        "        print(\"\\nTop 5 Diseases with Probabilities:\")\n",
        "        count = 0\n",
        "        for disease, probability in sorted_disease_probability.items():\n",
        "            print(f\"{disease}: {probability:.2f}\")\n",
        "            count += 1\n",
        "            if count == 5:\n",
        "                break"
      ],
      "metadata": {
        "id": "Fl6FKbqYonJI"
      },
      "execution_count": 12,
      "outputs": []
    },
    {
      "cell_type": "markdown",
      "source": [
        "function which gives option to user to chose symptoms"
      ],
      "metadata": {
        "id": "wY3o-VUzopRb"
      }
    },
    {
      "cell_type": "code",
      "source": [
        "def user_interface(disease_symptoms, selected_symptoms, data_set, Not_present=None):\n",
        "    if Not_present is None:\n",
        "        Not_present = []\n",
        "\n",
        "    leftSymptoms = {}  # Dictionary to store symptom names with integers\n",
        "\n",
        "    for disease, symptoms in disease_symptoms.items():\n",
        "        for symptom in symptoms:\n",
        "            # Check if the symptom is not in the selected_symptoms and Not_present lists\n",
        "            if symptom not in selected_symptoms and symptom not in Not_present:\n",
        "                add_value(disease, symptom, leftSymptoms)\n",
        "\n",
        "    sorted_leftSymptoms = dict(sorted(leftSymptoms.items(), key=lambda item: item[1], reverse=True))\n",
        "\n",
        "    if len(sorted_leftSymptoms) < 8:\n",
        "        print(\"\\nSelect one symptom from the following options:\")\n",
        "        for i, (symptom, value) in enumerate(sorted_leftSymptoms.items(), 1):\n",
        "            print(f\"{i}. {symptom}\")\n",
        "        print(f\"{len(sorted_leftSymptoms) + 1}. None of these\")\n",
        "\n",
        "        user_choice = int(input(\"Enter the number of the selected symptom: \"))\n",
        "        if user_choice == len(sorted_leftSymptoms) + 1:\n",
        "            # User selected None of these\n",
        "            Not_present.extend(current_window)\n",
        "            show_probability(selected_symptoms, denominator, data_set)\n",
        "        else:\n",
        "            selected_symptom = list(sorted_leftSymptoms.keys())[user_choice - 1]\n",
        "            selected_symptoms.append(selected_symptom)\n",
        "            user_interface(disease_symptoms, selected_symptoms, data_set, Not_present)\n",
        "\n",
        "    else:  # len(sorted_leftSymptoms) >= 8\n",
        "        window_size = 8\n",
        "        current_window = list(sorted_leftSymptoms.keys())[:window_size]\n",
        "        start_idx = 0\n",
        "\n",
        "        while True:\n",
        "            print(\"\\nSelect one symptom from the following options:\")\n",
        "            for i, symptom in enumerate(current_window, 1):\n",
        "                print(f\"{i}. {symptom}\")\n",
        "            print(f\"{window_size + 1}. None of these\")\n",
        "\n",
        "            user_choice = int(input(\"Enter the number of the selected symptom: \"))\n",
        "\n",
        "            if user_choice == window_size + 1:\n",
        "                # User selected None of these\n",
        "                Not_present.extend(current_window) # Add only the names of symptoms to Not_present\n",
        "                if start_idx + window_size >= len(sorted_leftSymptoms):\n",
        "                    print(\"\\nAll symptoms have been shown. Exiting...\")\n",
        "                    show_probability(selected_symptoms, denominator, data_set)\n",
        "                    return\n",
        "                else:\n",
        "                    start_idx += 8\n",
        "                    current_window = list(sorted_leftSymptoms.keys())[start_idx:start_idx + window_size]\n",
        "\n",
        "            else:\n",
        "                selected_symptom = current_window[user_choice - 1]\n",
        "                selected_symptoms.append(selected_symptom)\n",
        "                del_disease = []\n",
        "                for disease, symptoms in disease_symptoms.items():\n",
        "                    if selected_symptom in symptoms:\n",
        "                        symptoms.remove(selected_symptom)\n",
        "                        if not symptoms:\n",
        "                            del_disease.append(disease)\n",
        "\n",
        "                for disease in del_disease:\n",
        "                    del disease_symptoms[disease]\n",
        "\n",
        "                user_interface(disease_symptoms, selected_symptoms, data_set, Not_present)\n",
        "                return"
      ],
      "metadata": {
        "id": "ipvAYTnaovsI"
      },
      "execution_count": 13,
      "outputs": []
    },
    {
      "cell_type": "markdown",
      "source": [
        "Main function"
      ],
      "metadata": {
        "id": "ZOUzgZhOpAB8"
      }
    },
    {
      "cell_type": "code",
      "source": [
        "initial_symptom_selection(selected_symptoms)\n",
        "user_interface(disease_symptoms, selected_symptoms,data_set)\n",
        "LevelOfCovid(selected_symptoms, covid_symptoms)"
      ],
      "metadata": {
        "colab": {
          "base_uri": "https://localhost:8080/"
        },
        "id": "WPce1iYbpEb1",
        "outputId": "007235a8-d6cc-4ba4-96e0-16d61d56fc66"
      },
      "execution_count": 14,
      "outputs": [
        {
          "output_type": "stream",
          "name": "stdout",
          "text": [
            "Are you suffering from fever?\n",
            "For yes enter 1 else 0:1\n",
            "1. Fevers less than 103 degrees F\n",
            "2. fevers greater than 103 degrees F\n",
            "Enter the numbers of the selected symptom 1\n",
            "Are you suffering from cough?\n",
            "For yes enter 1 else 0:1\n",
            "Select multiple initial symptoms (separated by commas):\n",
            "1. Cough\n",
            "2. Dry Cough\n",
            "3. Chronic Cough\n",
            "4. Coughing up blood\n",
            "Enter the numbers of the selected symptom1\n",
            "\n",
            "Select one symptom from the following options:\n",
            "1. Fatigue\n",
            "2. Shortness of Breath\n",
            "3. Chest Pain\n",
            "4. Headache\n",
            "5. Nausea\n",
            "6. Vomiting\n",
            "7. Abdominal Pain\n",
            "8. Rapid Heartbeat\n",
            "9. None of these\n",
            "Enter the number of the selected symptom: 1\n",
            "\n",
            "Select one symptom from the following options:\n",
            "1. Shortness of Breath\n",
            "2. Chest Pain\n",
            "3. Headache\n",
            "4. Nausea\n",
            "5. Vomiting\n",
            "6. Abdominal Pain\n",
            "7. Rapid Heartbeat\n",
            "8. Weight loss\n",
            "9. None of these\n",
            "Enter the number of the selected symptom: 2\n",
            "\n",
            "Select one symptom from the following options:\n",
            "1. Shortness of Breath\n",
            "2. Headache\n",
            "3. Nausea\n",
            "4. Vomiting\n",
            "5. Abdominal Pain\n",
            "6. Rapid Heartbeat\n",
            "7. Weight loss\n",
            "8. Joint Pain\n",
            "9. None of these\n",
            "Enter the number of the selected symptom: 2\n",
            "\n",
            "Select one symptom from the following options:\n",
            "1. Shortness of Breath\n",
            "2. Nausea\n",
            "3. Vomiting\n",
            "4. Abdominal Pain\n",
            "5. Rapid Heartbeat\n",
            "6. Weight loss\n",
            "7. Joint Pain\n",
            "8. Dizziness\n",
            "9. None of these\n",
            "Enter the number of the selected symptom: 2\n",
            "\n",
            "Select one symptom from the following options:\n",
            "1. Shortness of Breath\n",
            "2. Vomiting\n",
            "3. Abdominal Pain\n",
            "4. Rapid Heartbeat\n",
            "5. Weight loss\n",
            "6. Joint Pain\n",
            "7. Dizziness\n",
            "8. Loss of Appetite\n",
            "9. None of these\n",
            "Enter the number of the selected symptom: 2\n",
            "\n",
            "Select one symptom from the following options:\n",
            "1. Shortness of Breath\n",
            "2. Abdominal Pain\n",
            "3. Rapid Heartbeat\n",
            "4. Weight loss\n",
            "5. Joint Pain\n",
            "6. Dizziness\n",
            "7. Loss of Appetite\n",
            "8. Bodyache\n",
            "9. None of these\n",
            "Enter the number of the selected symptom: 8\n",
            "\n",
            "Select one symptom from the following options:\n",
            "1. Shortness of Breath\n",
            "2. Abdominal Pain\n",
            "3. Rapid Heartbeat\n",
            "4. Weight loss\n",
            "5. Joint Pain\n",
            "6. Dizziness\n",
            "7. Loss of Appetite\n",
            "8. Cyanosis\n",
            "9. None of these\n",
            "Enter the number of the selected symptom: 1\n",
            "\n",
            "Select one symptom from the following options:\n",
            "1. Abdominal Pain\n",
            "2. Rapid Heartbeat\n",
            "3. Weight loss\n",
            "4. Joint Pain\n",
            "5. Dizziness\n",
            "6. Loss of Appetite\n",
            "7. Cyanosis\n",
            "8. Sore Throat\n",
            "9. None of these\n",
            "Enter the number of the selected symptom: 9\n",
            "\n",
            "Select one symptom from the following options:\n",
            "1. Runny Nose\n",
            "2. Wheezing\n",
            "3. Diarrhoea\n",
            "4. Rash\n",
            "5. Edema\n",
            "6. Rapid breathing\n",
            "7. Sneezing\n",
            "8. Chills and Sweating\n",
            "9. None of these\n",
            "Enter the number of the selected symptom: 1\n",
            "\n",
            "Select one symptom from the following options:\n",
            "1. Wheezing\n",
            "2. Diarrhoea\n",
            "3. Rash\n",
            "4. Edema\n",
            "5. Rapid breathing\n",
            "6. Sneezing\n",
            "7. Chills and Sweating\n",
            "8. Difficulty in breathing\n",
            "9. None of these\n",
            "Enter the number of the selected symptom: 1\n",
            "\n",
            "Select one symptom from the following options:\n",
            "1. Diarrhoea\n",
            "2. Rash\n",
            "3. Edema\n",
            "4. Rapid breathing\n",
            "5. Sneezing\n",
            "6. Chills and Sweating\n",
            "7. Difficulty in breathing\n",
            "8. Chills\n",
            "9. None of these\n",
            "Enter the number of the selected symptom: 9\n",
            "\n",
            "Select one symptom from the following options:\n",
            "1. Jaundice\n",
            "2. Itching\n",
            "3. Frequent Urination\n",
            "4. Pain in rectal area\n",
            "5. Dry Skin\n",
            "6. Joint Swelling\n",
            "7. HeartBurn\n",
            "8. High fever\n",
            "9. None of these\n",
            "Enter the number of the selected symptom: 9\n",
            "\n",
            "Select one symptom from the following options:\n",
            "1. Swelling in limbs\n",
            "2. Dry Cough\n",
            "3. Weight gain\n",
            "4. Difficulty sleeping\n",
            "5. Anxiety\n",
            "6. Skin Inflammation\n",
            "7. Chest Tightness\n",
            "8. Irregular heartbeat\n",
            "9. None of these\n",
            "Enter the number of the selected symptom: 9\n",
            "\n",
            "Select one symptom from the following options:\n",
            "1. Loss of taste\n",
            "2. Increased Mucus Production\n",
            "3. Muscle weakness\n",
            "4. Dark Urine\n",
            "5. Chronic Cough\n",
            "6. Bruising and bleeding\n",
            "7. Visible Veins\n",
            "8. Cold intolerance\n",
            "9. None of these\n",
            "Enter the number of the selected symptom: 9\n",
            "\n",
            "Select one symptom from the following options:\n",
            "1. Hoarse voice\n",
            "2. Constipation\n",
            "3. Increased heart rate\n",
            "4. Heat Intolerance\n",
            "5. Stiffness\n",
            "6. tenderness of Joint\n",
            "7. Pimples\n",
            "8. Burning in Lower Abdomen\n",
            "9. None of these\n",
            "Enter the number of the selected symptom: 9\n",
            "\n",
            "Select one symptom from the following options:\n",
            "1. Foul-Smelling Urine\n",
            "2. Leaking Urine\n",
            "3. Feet Itching\n",
            "4. Acid Regurgitation\n",
            "5. Weak immune\n",
            "6. Slow wound healing\n",
            "7. Skin Redness\n",
            "8. Eye Redness\n",
            "9. None of these\n",
            "Enter the number of the selected symptom: 9\n",
            "\n",
            "Select one symptom from the following options:\n",
            "1. Difficulty in concentrating\n",
            "2. Weakness\n",
            "3. Low Blood Pressue\n",
            "4. Rectal bleeding\n",
            "5. Prolapse\n",
            "6. Mucus Discharge\n",
            "7. Blood clots\n",
            "8. Heaviness of Legs\n",
            "9. None of these\n",
            "Enter the number of the selected symptom: 9\n",
            "\n",
            "Select one symptom from the following options:\n",
            "1. Blackheads\n",
            "2. Whiteheads\n",
            "3. Eye Pain\n",
            "4. High Blood Pressure\n",
            "5. Coughing up blood\n",
            "6. Pain and tenderness to standing\n",
            "7. Grating sensation\n",
            "8. Bloody Urine\n",
            "9. None of these\n",
            "Enter the number of the selected symptom: 9\n",
            "\n",
            "Select one symptom from the following options:\n",
            "1. Cloudy Urine\n",
            "2. Difficulty swallowing\n",
            "3. Blurred Vision\n",
            "4. Eye Inflammation\n",
            "5. Lower Back Pain\n",
            "9. None of these\n",
            "Enter the number of the selected symptom: 9\n",
            "\n",
            "All symptoms have been shown. Exiting...\n",
            "['Fever', 'Coughing', 'Fatigue', 'Chest Pain', 'Headache', 'Nausea', 'Vomiting', 'Bodyache', 'Shortness of Breath', 'Runny Nose', 'Wheezing']\n",
            "Lung Abscess: 1.00\n",
            "Pneumonia: 0.88\n",
            "Cryptococcosis: 0.85\n",
            "SARS-CoV-2 (COVID-19): 0.81\n",
            "Pulmonary Fibrosis: 0.77\n",
            "Pleural Mesothelioma: 0.77\n",
            "Bronchiectasis: 0.74\n",
            "Interstitial Lung Disease (ILD): 0.73\n",
            "Common Cold: 0.72\n",
            "Tuberculosis (TB): 0.72\n",
            "Gastroenteritis: 0.69\n",
            "Respiratory Syncytial Virus (RSV) Infection: 0.69\n",
            "Hypertension: 0.67\n",
            "Cystic Fibrosis: 0.64\n",
            "Pleural Effusion: 0.62\n",
            "Malaria: 0.60\n",
            "Influenza (Flu): 0.59\n",
            "Hepatitis B: 0.58\n",
            "Pulmonary Hypertension: 0.57\n",
            "Respiratory Acidosis: 0.57\n",
            "Pulmonary Embolism: 0.56\n",
            "You may have Moderate COVID-19\n",
            "You may consult doctor\n"
          ]
        }
      ]
    }
  ]
}