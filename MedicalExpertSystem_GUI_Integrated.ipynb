{
  "cells": [
    {
      "cell_type": "markdown",
      "metadata": {
        "id": "Fd87THC3koPL"
      },
      "source": [
        "# Import Library"
      ]
    },
    {
      "cell_type": "code",
      "execution_count": 91,
      "metadata": {
        "id": "hYHFSA7xkthy"
      },
      "outputs": [],
      "source": [
        "import pandas as pd"
      ]
    },
    {
      "cell_type": "code",
      "execution_count": 92,
      "metadata": {},
      "outputs": [],
      "source": [
        "from customtkinter import *"
      ]
    },
    {
      "cell_type": "markdown",
      "metadata": {
        "id": "Sqww3pZrkwEI"
      },
      "source": [
        "# Load the dataset"
      ]
    },
    {
      "cell_type": "code",
      "execution_count": 93,
      "metadata": {
        "id": "6Qz5V3w4k2Yt"
      },
      "outputs": [],
      "source": [
        "data = pd.read_csv('Dataset/data.csv')\n",
        "Not_present = []"
      ]
    },
    {
      "cell_type": "code",
      "execution_count": 94,
      "metadata": {},
      "outputs": [],
      "source": [
        "app = CTk()\n",
        "app.geometry(\"600x1000\")"
      ]
    },
    {
      "cell_type": "markdown",
      "metadata": {
        "id": "pDTOUVxlk56o"
      },
      "source": [
        "Stored dataset in matrix form and store all the symptoms of covid\n"
      ]
    },
    {
      "cell_type": "code",
      "execution_count": 95,
      "metadata": {
        "colab": {
          "base_uri": "https://localhost:8080/"
        },
        "id": "d8OqmR1yl8zz",
        "outputId": "044f8041-c183-4839-f3c6-a8a975325512"
      },
      "outputs": [
        {
          "name": "stdout",
          "output_type": "stream",
          "text": [
            "{'Alcoholic Hepatitis': ['Abdominal Pain', 'Vomiting', 'Nausea', 'Fatigue', 'Loss of Appetite', 'Jaundice'], 'Common Cold': ['Coughing', 'Fever', 'Headache', 'Bodyache', 'Sore Throat', 'Runny Nose', 'Sneezing'], 'Internal Dimorphic Hemmorhoids(piles)': ['Itching', 'Rectal bleeding', 'Pain in rectal area', 'Bruising and bleeding', 'Prolapse', 'Mucus Discharge'], 'External Dimorphic Hemmorhoids(piles)': ['Itching', 'Rectal bleeding', 'Pain in rectal area', 'Bruising and bleeding', 'Prolapse', 'Blood clots', 'Mucus Discharge'], 'Varicose Veins': ['Itching', 'Visible Veins', 'Heaviness of Legs', 'Edema', 'Pain and tenderness to standing'], 'Hypothyroidism': ['Dry Skin', 'Fatigue', 'Weight gain', 'Cold intolerance', 'Hoarse voice', 'Joint Pain', 'Constipation'], 'Hyperthyroidism': ['Difficulty sleeping', 'Fatigue', 'Increased heart rate', 'Weight loss', 'Muscle weakness', 'Heat Intolerance', 'Anxiety'], 'Acute Respiratory Distress Syndrome (ARDS)': ['Shortness of Breath', 'Coughing', 'Chest Tightness', 'Difficulty sleeping', 'Fatigue', 'Chest Pain', 'Rapid Heartbeat', 'Rapid breathing', 'Cyanosis'], 'Hypoxia': ['Shortness of Breath', 'Rapid Heartbeat', 'Dizziness', 'Rapid breathing', 'Cyanosis'], 'Cytokine Storm': ['Skin Inflammation', 'High fever', 'Headache', 'Dizziness', 'Difficulty in breathing', 'Rash'], 'Thrombosis and Blood Clotting Disorders': ['Shortness of Breath', 'Abdominal Pain', 'Chest Pain', 'Headache', 'Swelling in limbs', 'Skin Redness'], 'Multi-System Inflammatory Syndrome in Children (MIS-C)': ['Vomiting', 'High fever', 'Swelling in limbs', 'Eye Inflammation', 'Eye Redness', 'Rapid Heartbeat', 'Difficulty in breathing', 'Diarrhoea', 'Rash'], 'Long COVID (Post-Acute Sequelae of SARS-CoV-2 infection, PASC)': ['Difficulty in concentrating', 'Shortness of Breath', 'Abdominal Pain', 'Nausea', 'Coughing', 'Fatigue', 'Chest Pain', 'Headache', 'Rapid Heartbeat', 'Irregular heartbeat', 'Diarrhoea', 'Loss of taste', 'Joint Pain'], 'Cardiovascular Complications': ['Shortness of Breath', 'Fatigue', 'Chest Pain', 'Rapid Heartbeat', 'Irregular heartbeat', 'Dizziness', 'Edema', 'Cyanosis'], 'Renal Complications': ['Lower Back Pain', 'Vomiting', 'Nausea', 'Fatigue', 'High Blood Pressure', 'Weakness', 'Edema', 'Foul-Smelling Urine', 'Frequent Urination'], 'SARS-CoV-2 (COVID-19)': ['Shortness of Breath', 'Vomiting', 'Nausea', 'Coughing', 'Fatigue', 'Fever', 'Headache', 'Bodyache', 'Sore Throat', 'Runny Nose', 'Diarrhoea', 'Loss of taste'], 'Influenza (Flu)': ['Coughing', 'Chest Tightness', 'Fatigue', 'Fever', 'Headache', 'Bodyache', 'Sore Throat', 'Runny Nose', 'Sneezing', 'Chills and Sweating'], 'Tuberculosis (TB)': ['Shortness of Breath', 'Coughing', 'Fatigue', 'Fever', 'Chest Pain', 'Weight loss', 'Coughing up blood'], 'Interstitial Lung Disease (ILD)': ['Shortness of Breath', 'Fatigue', 'Chest Pain', 'Dry Cough'], 'Cystic Fibrosis': ['Shortness of Breath', 'Wheezing', 'Coughing', 'Increased Mucus Production', 'Weight gain'], 'Pulmonary Hypertension': ['Shortness of Breath', 'Fatigue', 'Chest Pain', 'Rapid Heartbeat', 'Edema'], 'Bronchiectasis': ['Shortness of Breath', 'Wheezing', 'Coughing', 'Increased Mucus Production', 'Chronic Cough', 'Fatigue', 'Fever', 'Chest Pain'], 'Pulmonary Fibrosis': ['Shortness of Breath', 'Coughing', 'Fatigue', 'Chest Pain', 'Dry Cough'], 'Pulmonary Embolism': ['Shortness of Breath', 'Coughing', 'Chest Pain', 'Rapid Heartbeat', 'Cyanosis', 'Anxiety'], 'Respiratory Syncytial Virus (RSV) Infection': ['Wheezing', 'Coughing', 'Fatigue', 'Fever', 'Runny Nose', 'Sneezing', 'Rapid breathing'], 'Lung Abscess': ['Shortness of Breath', 'Coughing', 'Fatigue', 'Fever', 'Chest Pain'], 'Pulmonary Edema': ['Shortness of Breath', 'Wheezing', 'Coughing', 'Rapid Heartbeat', 'Difficulty in breathing', 'Cyanosis', 'Anxiety'], 'Pleural Effusion': ['Shortness of Breath', 'Coughing', 'Chest Pain', 'Rapid Heartbeat', 'Difficulty in breathing'], 'Respiratory Acidosis': ['Shortness of Breath', 'Fatigue', 'Chest Pain', 'Headache', 'Low Blood Pressue', 'Rapid breathing', 'Cyanosis'], 'Cryptococcosis': ['Shortness of Breath', 'Vomiting', 'Nausea', 'Coughing', 'Fatigue', 'Chills', 'Fever', 'Chest Pain', 'Headache'], 'Pleural Mesothelioma': ['Shortness of Breath', 'Wheezing', 'Coughing', 'Fatigue', 'Chest Pain', 'Weight loss'], 'Osteoarthristis': ['Stiffness', 'Muscle weakness', 'Grating sensation', 'Joint Pain', 'Joint Swelling'], 'Arthritis': ['Stiffness', 'tenderness of Joint', 'Fatigue', 'Joint Pain', 'Joint Swelling'], 'Acne': ['Blackheads', 'Whiteheads', 'Pimples'], 'Urinary tract infection': ['Burning in Lower Abdomen', 'Foul-Smelling Urine', 'Frequent Urination', 'Bloody Urine', 'Cloudy Urine', 'Leaking Urine'], 'Psoriasis': ['Dry Skin', 'Skin Inflammation', 'Feet Itching'], 'Hepatitis B': ['Abdominal Pain', 'Vomiting', 'Nausea', 'Fatigue', 'Loss of Appetite', 'Jaundice', 'Dark Urine'], 'Hepatitis A': ['Abdominal Pain', 'Vomiting', 'Nausea', 'Fatigue', 'Fever', 'Loss of Appetite', 'Jaundice', 'Dark Urine', 'Joint Pain'], 'GERD': ['Chronic Cough', 'Chest Pain', 'Sore Throat', 'Difficulty swallowing', 'Hoarse voice', 'HeartBurn', 'Acid Regurgitation'], 'Drug Reaction': ['Abdominal Pain', 'Vomiting', 'Nausea', 'Headache', 'Dizziness', 'Diarrhoea', 'Rash'], 'AIDS': ['Weak immune', 'Fatigue', 'Fever', 'Weight loss', 'Diarrhoea', 'Rash'], 'Peptic ulcer disease': ['Abdominal Pain', 'Nausea', 'Weight loss', 'Loss of Appetite', 'HeartBurn'], 'Diabetes': ['Fatigue', 'Slow wound healing', 'Weight loss', 'Blurred Vision', 'Frequent Urination'], 'Hypertension': ['Shortness of Breath', 'Chest Pain', 'Headache', 'Dizziness'], 'Gastroenteritis': ['Abdominal Pain', 'Vomiting', 'Nausea', 'Fatigue', 'Fever', 'Headache', 'Bodyache', 'Loss of Appetite'], 'Malaria': ['Fatigue', 'Chills', 'Fever', 'Headache', 'Bodyache', 'Chills and Sweating', 'Joint Pain'], 'Chicken pox': ['Itching', 'Fatigue', 'Fever', 'Headache', 'Sore Throat', 'Loss of Appetite', 'Rash'], 'Dengue': ['Abdominal Pain', 'Vomiting', 'Nausea', 'Fatigue', 'High fever', 'Headache', 'Eye Pain', 'Rash', 'Joint Pain'], 'Typhoid': ['Abdominal Pain', 'Fatigue', 'Fever', 'Headache', 'Chills and Sweating', 'Loss of Appetite', 'Diarrhoea', 'Rash', 'Constipation'], 'Pneumonia': ['Shortness of Breath', 'Coughing', 'Fatigue', 'Chills', 'Fever', 'Chest Pain']}\n"
          ]
        }
      ],
      "source": [
        "# Create a dictionary to store disease symptoms\n",
        "covid_symptoms = {}\n",
        "data_set = {}\n",
        "data_set_fix={}\n",
        "# Iterate through each row\n",
        "for index, row in data.iterrows():\n",
        "    disease = row.iloc[1]  # The second column contains the disease name\n",
        "    symptoms = []  # Initialize an empty list to store symptoms for this disease\n",
        "\n",
        "    # Iterate through the symptoms columns and check if they are marked as 1, 2, or 3\n",
        "    for col, val in row.iloc[2:].items():\n",
        "        if val in [1, 2, 3]:\n",
        "            symptoms.append(col)\n",
        "        if disease == 'SARS-CoV-2 (COVID-19)' and val in [1, 2, 3]:\n",
        "            if col not in covid_symptoms:\n",
        "                covid_symptoms[col] = val\n",
        "    # Add the disease and its corresponding symptoms to the data_set dictionary\n",
        "    data_set[disease] = symptoms\n",
        "\n",
        "data_set_fix =data_set.copy()\n",
        "print(data_set)"
      ]
    },
    {
      "cell_type": "markdown",
      "metadata": {
        "id": "6ZuRjkxgmQps"
      },
      "source": [
        "Created a temppray maping of disease with it's all symptoms"
      ]
    },
    {
      "cell_type": "code",
      "execution_count": 96,
      "metadata": {
        "id": "Gr7T6MSamXvh"
      },
      "outputs": [],
      "source": [
        "disease_symptoms = {}\n",
        "# Iterate through each row\n",
        "for index, row in data.iterrows():\n",
        "    disease = row.iloc[1]  # The second column contains the disease name\n",
        "    symptoms = []  # Initialize an empty list to store symptoms for this disease\n",
        "\n",
        "    # Iterate through the symptoms columns and check if they are marked as 1, 2, or 3\n",
        "    for col, val in row.iloc[2:].items():\n",
        "        if val in [1, 2, 3]:\n",
        "            symptoms.append(col)\n",
        "\n",
        "    disease_symptoms[disease] = symptoms\n",
        "    data_set[disease] = symptoms"
      ]
    },
    {
      "cell_type": "markdown",
      "metadata": {
        "id": "xlRrdluAm1o6"
      },
      "source": [
        "Created necessary list and dictonary"
      ]
    },
    {
      "cell_type": "code",
      "execution_count": 97,
      "metadata": {
        "id": "UBKePpd1mzWW"
      },
      "outputs": [],
      "source": [
        "\n",
        "# Create a dictionary to store denominator values\n",
        "denominator = {}\n",
        "\n",
        "# Iterate through each row to calculate denominator values\n",
        "for index, row in data.iterrows():\n",
        "    disease = row.iloc[1]  # The second column contains the disease name\n",
        "    total_value = row.iloc[2:].sum()  # Sum of all values from column 3 onwards\n",
        "    denominator[disease] = total_value\n",
        "\n",
        "# Create a list to store selected symptoms\n",
        "selected_symptoms = []\n",
        "\n",
        "#created a list to store symotom which is not present in pacent\n",
        "Not_present =[]\n",
        "initial_selection_done = False  # Global variable to track initial selection"
      ]
    },
    {
      "cell_type": "markdown",
      "metadata": {
        "id": "CQbdMt8JnR3U"
      },
      "source": [
        "Initial questions"
      ]
    },
    {
      "cell_type": "markdown",
      "metadata": {
        "id": "dty_QkvJnZxw"
      },
      "source": [
        "Sincerity level of covid"
      ]
    },
    {
      "cell_type": "code",
      "execution_count": 98,
      "metadata": {
        "id": "DsTChpD0nlpW"
      },
      "outputs": [],
      "source": [
        "def LevelOfCovid(selected_symptoms, covid_symptoms):\n",
        "    count = 0\n",
        "    why_covid = []\n",
        "\n",
        "    for symptom in selected_symptoms:\n",
        "        if symptom in covid_symptoms:\n",
        "            severity = covid_symptoms[symptom]\n",
        "            why_covid.append(symptom)\n",
        "            if severity == 1:\n",
        "                count = count + 1\n",
        "            elif severity == 2:\n",
        "                count = count + 2\n",
        "            elif severity == 3:\n",
        "                count = count + 3\n",
        "    y = 0\n",
        "    for x in covid_symptoms:\n",
        "        y = y + covid_symptoms[x]\n",
        "\n",
        "    prob = count / y\n",
        "\n",
        "    list_label1 = CTkLabel(app, text=\"Selcted Symptoms\", fg_color=\"#a2d5c6\", text_color=\"#000000\", \n",
        "                          anchor=\"center\", justify=\"center\",\n",
        "                          font=(\"Helvetica\", 20, \"bold\"))\n",
        "    list_label1.pack(fill=\"both\")\n",
        "    \n",
        "    list_label = CTkLabel(app, text=\"\\n\".join(selected_symptoms), fg_color=\"#FFE5B4\", text_color=\"#000000\", \n",
        "                          anchor=\"center\", justify=\"center\",\n",
        "                          font=(\"Helvetica\", 20, \"bold\"))\n",
        "    list_label.pack(fill=\"both\")\n",
        "\n",
        "    if prob >= 0 and prob <= 0.25:\n",
        "        list_label1 = CTkLabel(app, text=\"You may have mild COVID-19\", fg_color=\"#a2d5c6\", text_color=\"#000000\", \n",
        "                          anchor=\"center\", justify=\"center\",\n",
        "                          font=(\"Helvetica\", 20, \"bold\"))\n",
        "        list_label1.pack(fill=\"both\")\n",
        "        list_label4 = CTkLabel(app, text=\"Covid Related Symptoms you have\", fg_color=\"#ADD8E6\", text_color=\"#000000\", \n",
        "                          anchor=\"center\", justify=\"center\",\n",
        "                          font=(\"Helvetica\", 20, \"bold\"))\n",
        "        list_label4.pack(fill=\"both\")\n",
        "        list_label3 = CTkLabel(app, text=\"\\n\".join(why_covid), fg_color=\"#ADD8E6\", text_color=\"#000000\", \n",
        "                          anchor=\"center\", justify=\"center\",\n",
        "                          font=(\"Helvetica\", 20, \"bold\"))\n",
        "        list_label3.pack(fill=\"both\")\n",
        "        list_label = CTkLabel(app, text=\"You may take the following Supplements:\\nVitamin C\\t Zinc\\t Melatonin\", fg_color=\"#FFE5B4\", text_color=\"#000000\", \n",
        "                          anchor=\"center\", justify=\"center\",\n",
        "                          font=(\"Helvetica\", 20, \"bold\"))\n",
        "        list_label.pack(fill=\"both\")\n",
        "    elif prob > 0.25 and prob <= 0.50:\n",
        "        list_label1 = CTkLabel(app, text=\"You may have Moderate COVID-19\\nYou may consult doctor\", fg_color=\"#a2d5c6\", text_color=\"#000000\", \n",
        "                          anchor=\"center\", justify=\"center\",\n",
        "                          font=(\"Helvetica\", 20, \"bold\"))\n",
        "        list_label1.pack(fill=\"both\")\n",
        "        list_label4 = CTkLabel(app, text=\"Covid Related Symptoms you have\", fg_color=\"#ADD8E6\", text_color=\"#000000\", \n",
        "                          anchor=\"center\", justify=\"center\",\n",
        "                          font=(\"Helvetica\", 20, \"bold\"))\n",
        "        list_label4.pack(fill=\"both\")\n",
        "        list_label3 = CTkLabel(app, text=\"\\n\".join(why_covid), fg_color=\"#ADD8E6\", text_color=\"#000000\", \n",
        "                          anchor=\"center\", justify=\"center\",\n",
        "                          font=(\"Helvetica\", 20, \"bold\"))\n",
        "        list_label3.pack(fill=\"both\")\n",
        "        label_text22 = \"Medications can help reduce symptoms and help you manage your illness\\n1. Remdesivir\\n2. Hydroxychloroquine\\n3. paracetamol\\n4. Antihistamines\"\n",
        "        list_label = CTkLabel(app, text=label_text22, fg_color=\"#FFE5B4\", text_color=\"#000000\", \n",
        "                          anchor=\"center\", justify=\"center\",\n",
        "                          font=(\"Helvetica\", 20, \"bold\"))\n",
        "        list_label.pack(fill=\"both\")\n",
        "    elif prob > 0.5:\n",
        "        list_label1 = CTkLabel(app, text=\"High chance of COVID-19 consult doctor immediately\", fg_color=\"#a2d5c6\", text_color=\"#000000\", \n",
        "                          anchor=\"center\", justify=\"center\",\n",
        "                          font=(\"Helvetica\", 20, \"bold\"))\n",
        "        list_label1.pack(fill=\"both\")\n",
        "        list_label4 = CTkLabel(app, text=\"Covid Related Symptoms you have\", fg_color=\"#ADD8E6\", text_color=\"#000000\", \n",
        "                          anchor=\"center\", justify=\"center\",\n",
        "                          font=(\"Helvetica\", 20, \"bold\"))\n",
        "        list_label4.pack(fill=\"both\")\n",
        "        list_label3 = CTkLabel(app, text=\"\\n\".join(why_covid), fg_color=\"#ADD8E6\", text_color=\"#000000\", \n",
        "                          anchor=\"center\", justify=\"center\",\n",
        "                          font=(\"Helvetica\", 20, \"bold\"))\n",
        "        list_label3.pack(fill=\"both\")"
      ]
    },
    {
      "cell_type": "markdown",
      "metadata": {
        "id": "D0gDLw37nqoh"
      },
      "source": [
        "Define the giveValue function"
      ]
    },
    {
      "cell_type": "code",
      "execution_count": 99,
      "metadata": {
        "id": "3yMGtW4bnwcZ"
      },
      "outputs": [],
      "source": [
        "def giveValue(disease, symptom):\n",
        "    # Find the row corresponding to the disease\n",
        "    row = data[data.iloc[:, 1] == disease]\n",
        "\n",
        "    if not row.empty:\n",
        "        # Check if the symptom is marked for the disease\n",
        "        if row[symptom].values[0] in [1, 2, 3]:\n",
        "            return row[symptom].values[0]\n",
        "\n",
        "    # Return None if the disease or symptom is not found\n",
        "    return None"
      ]
    },
    {
      "cell_type": "markdown",
      "metadata": {
        "id": "9Pq4SJMcnzXZ"
      },
      "source": [
        "add value of symptom s1 and disease d1 in dictonary d1"
      ]
    },
    {
      "cell_type": "code",
      "execution_count": 100,
      "metadata": {
        "id": "pxMotCwooS0B"
      },
      "outputs": [],
      "source": [
        "def add_value(disease, symptom, d1):\n",
        "    value = giveValue(disease, symptom)\n",
        "    if value is not None:\n",
        "        if symptom not in d1:\n",
        "            d1[symptom] = value\n",
        "        else:\n",
        "            d1[symptom] += value\n",
        "    else:\n",
        "        print(f\"Value not found for Disease: {disease}, Symptom: {symptom}\")"
      ]
    },
    {
      "cell_type": "code",
      "execution_count": 101,
      "metadata": {
        "id": "wMFCKDdZoZdD"
      },
      "outputs": [],
      "source": [
        "def add_values1(disease, symptom, d1):\n",
        "    value = giveValue(disease, symptom)\n",
        "    if value is not None:\n",
        "        if disease not in d1:\n",
        "            d1[disease] = value\n",
        "        else:\n",
        "            d1[disease] += value\n",
        "    else:\n",
        "        print(f\"Value not found for Disease: {disease}, Symptom: {symptom}\")\n",
        "\n"
      ]
    },
    {
      "cell_type": "markdown",
      "metadata": {
        "id": "4F_ECDCaohow"
      },
      "source": [
        "To show probabilty to user"
      ]
    },
    {
      "cell_type": "code",
      "execution_count": 102,
      "metadata": {
        "id": "Fl6FKbqYonJI"
      },
      "outputs": [],
      "source": [
        "def show_probability(selected_symptoms, denominator, data_set):\n",
        "    numerator = {}  # Dictionary to store disease with its value\n",
        "    disease_probability = {}  # Dictionary to store disease name and its probability\n",
        "    # Iterate through selected symptoms\n",
        "    for symptom in selected_symptoms:\n",
        "        # Iterate through disease symptoms\n",
        "        for disease, symptoms in data_set_fix.items():\n",
        "            if symptom in symptoms:\n",
        "                add_values1(disease, symptom, numerator)\n",
        "\n",
        "    # Create a label to display the list within the frame\n",
        "    list_label1 = CTkLabel(app, text=\"Selected Symptoms\", fg_color=\"#a2d5c6\", text_color=\"#000000\", \n",
        "                          anchor=\"center\", justify=\"center\",\n",
        "                          font=(\"Helvetica\", 20, \"bold\"))\n",
        "    list_label1.pack(fill=\"both\")\n",
        "    list_label = CTkLabel(app, text=\"\\n\".join(selected_symptoms), fg_color=\"#FFE5B4\", text_color=\"#000000\", \n",
        "                          anchor=\"center\", justify=\"center\",\n",
        "                          font=(\"Helvetica\", 20, \"bold\"))\n",
        "    list_label.pack(fill=\"both\")\n",
        "\n",
        "    # Calculate probabilities\n",
        "    for disease in numerator.keys():\n",
        "        disease_probability[disease] = numerator[disease] / denominator[disease]\n",
        "\n",
        "    # Sort disease_probability by probability in descending order\n",
        "    sorted_disease_probability = dict(sorted(disease_probability.items(), key=lambda item: item[1], reverse=True))\n",
        "\n",
        "    high_prob_diseases = {disease: probability for disease, probability in sorted_disease_probability.items() if probability > 0.5}\n",
        "\n",
        "    if high_prob_diseases:\n",
        "        list_label2 = CTkLabel(app, text=\"Diseases with Probability: \", fg_color=\"#a2d5c6\", text_color=\"#000000\", \n",
        "                          anchor=\"center\", justify=\"center\",\n",
        "                          font=(\"Helvetica\", 20, \"bold\"))\n",
        "        list_label2.pack(fill=\"both\")\n",
        "        label_text = \"\\n\".join([f\"{disease}: {probability:.2f}\" for disease, probability in high_prob_diseases.items()])\n",
        "        list_label3 = CTkLabel(app, text=label_text, fg_color=\"#FFE5B4\", text_color=\"#000000\", \n",
        "                          anchor=\"center\", justify=\"center\",\n",
        "                          font=(\"Helvetica\", 20, \"bold\"))\n",
        "        list_label3.pack(fill=\"both\")\n",
        "    else:\n",
        "        print(\"\\nTop 5 Diseases with Probabilities:\")\n",
        "        list_label2 = CTkLabel(app, text=\"Top 5 Diseases with Probability: \", fg_color=\"#a2d5c6\", text_color=\"#000000\", \n",
        "                          anchor=\"center\", justify=\"center\",\n",
        "                          font=(\"Helvetica\", 20, \"bold\"))\n",
        "        list_label2.pack(fill=\"both\")\n",
        "        count = 0\n",
        "        label_text = \"\"\n",
        "        for disease, probability in sorted_disease_probability.items():\n",
        "            label_text = label_text + \"\\n\" + disease + \": {:.2f}\".format(probability)\n",
        "            count += 1\n",
        "            if count == 5:\n",
        "                break\n",
        "        list_label3 = CTkLabel(app, text=label_text, fg_color=\"#FFE5B4\", text_color=\"#000000\", \n",
        "                          anchor=\"center\", justify=\"center\",\n",
        "                          font=(\"Helvetica\", 20, \"bold\"))\n",
        "        list_label3.pack(fill=\"both\")\n",
        "\n",
        "    LevelOfCovid(selected_symptoms, covid_symptoms)"
      ]
    },
    {
      "cell_type": "markdown",
      "metadata": {
        "id": "wY3o-VUzopRb"
      },
      "source": [
        "function which gives option to user to chose symptoms"
      ]
    },
    {
      "cell_type": "code",
      "execution_count": 103,
      "metadata": {
        "id": "ipvAYTnaovsI"
      },
      "outputs": [],
      "source": [
        "selected_option = \"None Of These\"\n",
        "\n",
        "def get_radio_selection(radio_var, label, radio_buttons, sorted_leftSymptoms, get_selection_button):\n",
        "    selected_option = radio_var.get()\n",
        "\n",
        "    for x in radio_buttons:\n",
        "        x.place_forget()\n",
        "    label.place_forget()\n",
        "    get_selection_button.place_forget()\n",
        "\n",
        "    if selected_option == \"None Of These\":\n",
        "        if len(sorted_leftSymptoms) <= 8:\n",
        "            show_probability(selected_symptoms, denominator, data_set)\n",
        "            return\n",
        "        else:\n",
        "            current_window = list(sorted_leftSymptoms.keys())[:8]\n",
        "            for disease in current_window:\n",
        "                Not_present.append(disease)\n",
        "            user_interface(disease_symptoms, selected_symptoms, data_set, Not_present)\n",
        "            return\n",
        "    else:\n",
        "        selected_symptom = selected_option\n",
        "        selected_symptoms.append(selected_symptom)\n",
        "        del_disease = []\n",
        "        for disease, symptoms in disease_symptoms.items():\n",
        "            if selected_symptom in symptoms:\n",
        "                symptoms.remove(selected_symptom)\n",
        "            else:\n",
        "                del_disease.append(disease)\n",
        "\n",
        "        for disease in del_disease:\n",
        "            del disease_symptoms[disease]\n",
        "\n",
        "        user_interface(disease_symptoms, selected_symptoms, data_set, Not_present)\n",
        "        return\n",
        "\n",
        "\n",
        "def user_interface(disease_symptoms, selected_symptoms, data_set, Not_present):\n",
        "    \n",
        "    leftSymptoms = {}  # Dictionary to store symptom names with integers\n",
        "    for disease, symptoms in disease_symptoms.items():\n",
        "        for symptom in symptoms:\n",
        "            # Check if the symptom is not in the selected_symptoms and Not_present lists\n",
        "            if symptom not in selected_symptoms and symptom not in Not_present:\n",
        "                add_value(disease, symptom, leftSymptoms)\n",
        "\n",
        "    sorted_leftSymptoms = dict(sorted(leftSymptoms.items(), key=lambda item: item[1], reverse=True))\n",
        "\n",
        "    window_size = min(8, len(sorted_leftSymptoms))\n",
        "    current_window = list(sorted_leftSymptoms.keys())[:window_size]\n",
        "\n",
        "    # # label\n",
        "    label = CTkLabel(app, text=\"Select one symptom from the following options:\", fg_color=\"transparent\")\n",
        "    label.place(relx=0.5, rely=0.2, anchor=\"center\")\n",
        "\n",
        "    # # show radiobuttons\n",
        "    radio_var = StringVar()\n",
        "\n",
        "    # # Create CTkRadiobuttons based on the length of sorted_leftSymptoms\n",
        "    radio_buttons = []\n",
        "    current_window.append(\"None Of These\")\n",
        "\n",
        "    for i, symptom in enumerate(current_window, 1):\n",
        "        radio_button = CTkRadioButton(master=app, text=symptom, variable=radio_var, value=symptom)\n",
        "        radio_button.place(relx=0.5, rely=0.3 + i * 0.05, anchor=\"center\")\n",
        "        radio_buttons.append(radio_button)\n",
        "\n",
        "\n",
        "    get_selection_button = CTkButton(master=app, text=\"Get Selection\", command=lambda: get_radio_selection(radio_var, label, radio_buttons, sorted_leftSymptoms, get_selection_button))\n",
        "    get_selection_button.place(relx=0.5, rely=0.3 + (window_size + 1) * 0.05 + 0.1, anchor=\"center\")\n",
        "    return"
      ]
    },
    {
      "cell_type": "markdown",
      "metadata": {},
      "source": [
        "Initial Questions"
      ]
    },
    {
      "cell_type": "code",
      "execution_count": 104,
      "metadata": {},
      "outputs": [],
      "source": [
        "def get_check_selection():\n",
        "    selected_options = [textd[i] for i in range(len(textd)) if vars[i].get()]\n",
        "    not_selected_options = [textd[i] for i in range(len(textd) - 1) if not vars[i].get()]\n",
        "    for y in not_selected_options:\n",
        "        Not_present.append(y)\n",
        "    if not vars[5].get():\n",
        "        for x in selected_options:\n",
        "            selected_symptoms.append(x)\n",
        "    for check_button in check_buttons:\n",
        "        check_button.place_forget()\n",
        "    get_selection_button.place_forget()\n",
        "    label.place_forget()\n",
        "    initial_selection_done = True  # Update the global variable\n",
        "    user_interface(disease_symptoms, selected_symptoms,data_set, Not_present)\n",
        "\n",
        "def initial_symptom_selection(selected_symptoms):\n",
        "    global initial_selection_done\n",
        "    if initial_selection_done:\n",
        "        return True  # Initial selection already done\n",
        "    \n",
        "    global vars, textd, check_buttons, label\n",
        "\n",
        "    label = CTkLabel(app, text=\"Do you have following symptoms?\", fg_color=\"transparent\")\n",
        "    label.place(relx=0.5, rely=0.2, anchor=\"center\")\n",
        "\n",
        "    vars = [BooleanVar() for _ in range(6)]\n",
        "\n",
        "    textd = [\"Coughing\", \"Dry Cough\", \"Chronic Cough\", \"Fever\", \"High Fever\", \"None of these\"]\n",
        "\n",
        "    check_buttons = [CTkCheckBox(master=app, text=textd[i], variable=vars[i]) for i in range(len(textd))]\n",
        "\n",
        "    for i, check_button in enumerate(check_buttons):\n",
        "        check_button.place(relx=0.5, rely=0.3 + i * 0.1, anchor=\"center\")\n",
        "    \n",
        "    global get_selection_button\n",
        "    get_selection_button = CTkButton(master=app, text=\"Get Selection\", command=get_check_selection)\n",
        "    get_selection_button.place(relx=0.5, rely=0.9, anchor=\"center\")\n",
        "\n",
        "    return True"
      ]
    },
    {
      "cell_type": "code",
      "execution_count": 105,
      "metadata": {
        "id": "__7PTCnfMXkf"
      },
      "outputs": [
        {
          "name": "stdout",
          "output_type": "stream",
          "text": [
            "\n",
            "Top 5 Diseases with Probabilities:\n"
          ]
        }
      ],
      "source": [
        "def diagnose():\n",
        "    btn.place_forget()\n",
        "    initial_symptom_selection(selected_symptoms)\n",
        "\n",
        "btn = CTkButton(master=app, text=\"Diagonise\", command=diagnose, corner_radius=32, fg_color=\"#C850C0\",\n",
        "                hover_color=\"#4158D0\")\n",
        "btn.place(relx=0.5, rely=0.5, anchor=\"center\")\n",
        "\n",
        "app.mainloop()"
      ]
    }
  ],
  "metadata": {
    "colab": {
      "provenance": []
    },
    "kernelspec": {
      "display_name": "Python 3",
      "name": "python3"
    },
    "language_info": {
      "codemirror_mode": {
        "name": "ipython",
        "version": 3
      },
      "file_extension": ".py",
      "mimetype": "text/x-python",
      "name": "python",
      "nbconvert_exporter": "python",
      "pygments_lexer": "ipython3",
      "version": "3.10.1"
    },
    "widgets": {
      "application/vnd.jupyter.widget-state+json": {
        "3da3e8a32c2e493d82c0e092c371a943": {
          "model_module": "@jupyter-widgets/base",
          "model_module_version": "1.2.0",
          "model_name": "LayoutModel",
          "state": {
            "_model_module": "@jupyter-widgets/base",
            "_model_module_version": "1.2.0",
            "_model_name": "LayoutModel",
            "_view_count": null,
            "_view_module": "@jupyter-widgets/base",
            "_view_module_version": "1.2.0",
            "_view_name": "LayoutView",
            "align_content": null,
            "align_items": null,
            "align_self": null,
            "border": null,
            "bottom": null,
            "display": null,
            "flex": null,
            "flex_flow": null,
            "grid_area": null,
            "grid_auto_columns": null,
            "grid_auto_flow": null,
            "grid_auto_rows": null,
            "grid_column": null,
            "grid_gap": null,
            "grid_row": null,
            "grid_template_areas": null,
            "grid_template_columns": null,
            "grid_template_rows": null,
            "height": null,
            "justify_content": null,
            "justify_items": null,
            "left": null,
            "margin": null,
            "max_height": null,
            "max_width": null,
            "min_height": null,
            "min_width": null,
            "object_fit": null,
            "object_position": null,
            "order": null,
            "overflow": null,
            "overflow_x": null,
            "overflow_y": null,
            "padding": null,
            "right": null,
            "top": null,
            "visibility": null,
            "width": null
          }
        },
        "855e9c979a2a4ed48bed6d189ebecff9": {
          "model_module": "@jupyter-widgets/base",
          "model_module_version": "1.2.0",
          "model_name": "LayoutModel",
          "state": {
            "_model_module": "@jupyter-widgets/base",
            "_model_module_version": "1.2.0",
            "_model_name": "LayoutModel",
            "_view_count": null,
            "_view_module": "@jupyter-widgets/base",
            "_view_module_version": "1.2.0",
            "_view_name": "LayoutView",
            "align_content": null,
            "align_items": null,
            "align_self": null,
            "border": null,
            "bottom": null,
            "display": null,
            "flex": null,
            "flex_flow": null,
            "grid_area": null,
            "grid_auto_columns": null,
            "grid_auto_flow": null,
            "grid_auto_rows": null,
            "grid_column": null,
            "grid_gap": null,
            "grid_row": null,
            "grid_template_areas": null,
            "grid_template_columns": null,
            "grid_template_rows": null,
            "height": null,
            "justify_content": null,
            "justify_items": null,
            "left": null,
            "margin": null,
            "max_height": null,
            "max_width": null,
            "min_height": null,
            "min_width": null,
            "object_fit": null,
            "object_position": null,
            "order": null,
            "overflow": null,
            "overflow_x": null,
            "overflow_y": null,
            "padding": null,
            "right": null,
            "top": null,
            "visibility": null,
            "width": null
          }
        },
        "93f828872b764fd9aa09e480326f180f": {
          "model_module": "@jupyter-widgets/base",
          "model_module_version": "1.2.0",
          "model_name": "LayoutModel",
          "state": {
            "_model_module": "@jupyter-widgets/base",
            "_model_module_version": "1.2.0",
            "_model_name": "LayoutModel",
            "_view_count": null,
            "_view_module": "@jupyter-widgets/base",
            "_view_module_version": "1.2.0",
            "_view_name": "LayoutView",
            "align_content": null,
            "align_items": null,
            "align_self": null,
            "border": null,
            "bottom": null,
            "display": null,
            "flex": null,
            "flex_flow": null,
            "grid_area": null,
            "grid_auto_columns": null,
            "grid_auto_flow": null,
            "grid_auto_rows": null,
            "grid_column": null,
            "grid_gap": null,
            "grid_row": null,
            "grid_template_areas": null,
            "grid_template_columns": null,
            "grid_template_rows": null,
            "height": null,
            "justify_content": null,
            "justify_items": null,
            "left": null,
            "margin": null,
            "max_height": null,
            "max_width": null,
            "min_height": null,
            "min_width": null,
            "object_fit": null,
            "object_position": null,
            "order": null,
            "overflow": null,
            "overflow_x": null,
            "overflow_y": null,
            "padding": null,
            "right": null,
            "top": null,
            "visibility": null,
            "width": null
          }
        },
        "9abfdb7d3eff40ddb17d841d1688a2c7": {
          "model_module": "@jupyter-widgets/controls",
          "model_module_version": "1.5.0",
          "model_name": "TextModel",
          "state": {
            "_dom_classes": [],
            "_model_module": "@jupyter-widgets/controls",
            "_model_module_version": "1.5.0",
            "_model_name": "TextModel",
            "_view_count": null,
            "_view_module": "@jupyter-widgets/controls",
            "_view_module_version": "1.5.0",
            "_view_name": "TextView",
            "continuous_update": true,
            "description": "",
            "description_tooltip": null,
            "disabled": false,
            "layout": "IPY_MODEL_93f828872b764fd9aa09e480326f180f",
            "placeholder": "Enter 1 or 0",
            "style": "IPY_MODEL_f92621a3d280426e87651d43f2758b56",
            "value": "1"
          }
        },
        "e5554e8b8d524d87ae44cb0d21d8f5b2": {
          "model_module": "@jupyter-widgets/controls",
          "model_module_version": "1.5.0",
          "model_name": "ButtonModel",
          "state": {
            "_dom_classes": [],
            "_model_module": "@jupyter-widgets/controls",
            "_model_module_version": "1.5.0",
            "_model_name": "ButtonModel",
            "_view_count": null,
            "_view_module": "@jupyter-widgets/controls",
            "_view_module_version": "1.5.0",
            "_view_name": "ButtonView",
            "button_style": "success",
            "description": "Diagnose",
            "disabled": false,
            "icon": "",
            "layout": "IPY_MODEL_3da3e8a32c2e493d82c0e092c371a943",
            "style": "IPY_MODEL_f0ae1fce488e4627b1695814ba5fa9ef",
            "tooltip": ""
          }
        },
        "f0ae1fce488e4627b1695814ba5fa9ef": {
          "model_module": "@jupyter-widgets/controls",
          "model_module_version": "1.5.0",
          "model_name": "ButtonStyleModel",
          "state": {
            "_model_module": "@jupyter-widgets/controls",
            "_model_module_version": "1.5.0",
            "_model_name": "ButtonStyleModel",
            "_view_count": null,
            "_view_module": "@jupyter-widgets/base",
            "_view_module_version": "1.2.0",
            "_view_name": "StyleView",
            "button_color": null,
            "font_weight": ""
          }
        },
        "f0c4f5b16b584b8fb093fbb3429fdf0a": {
          "model_module": "@jupyter-widgets/controls",
          "model_module_version": "1.5.0",
          "model_name": "LabelModel",
          "state": {
            "_dom_classes": [],
            "_model_module": "@jupyter-widgets/controls",
            "_model_module_version": "1.5.0",
            "_model_name": "LabelModel",
            "_view_count": null,
            "_view_module": "@jupyter-widgets/controls",
            "_view_module_version": "1.5.0",
            "_view_name": "LabelView",
            "description": "",
            "description_tooltip": null,
            "layout": "IPY_MODEL_855e9c979a2a4ed48bed6d189ebecff9",
            "placeholder": "​",
            "style": "IPY_MODEL_f112fd0cbd104e158ba242b434fa4f90",
            "value": "You have entered 11"
          }
        },
        "f112fd0cbd104e158ba242b434fa4f90": {
          "model_module": "@jupyter-widgets/controls",
          "model_module_version": "1.5.0",
          "model_name": "DescriptionStyleModel",
          "state": {
            "_model_module": "@jupyter-widgets/controls",
            "_model_module_version": "1.5.0",
            "_model_name": "DescriptionStyleModel",
            "_view_count": null,
            "_view_module": "@jupyter-widgets/base",
            "_view_module_version": "1.2.0",
            "_view_name": "StyleView",
            "description_width": ""
          }
        },
        "f92621a3d280426e87651d43f2758b56": {
          "model_module": "@jupyter-widgets/controls",
          "model_module_version": "1.5.0",
          "model_name": "DescriptionStyleModel",
          "state": {
            "_model_module": "@jupyter-widgets/controls",
            "_model_module_version": "1.5.0",
            "_model_name": "DescriptionStyleModel",
            "_view_count": null,
            "_view_module": "@jupyter-widgets/base",
            "_view_module_version": "1.2.0",
            "_view_name": "StyleView",
            "description_width": ""
          }
        }
      }
    }
  },
  "nbformat": 4,
  "nbformat_minor": 0
}
